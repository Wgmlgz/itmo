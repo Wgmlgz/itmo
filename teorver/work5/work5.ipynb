{
 "cells": [
  {
   "cell_type": "markdown",
   "metadata": {},
   "source": [
    "Вариант 14\n",
    "\n",
    "Каждый студент получает выборку из 20 чисел. Необходимо определить следующие статистические характеристики: вариационный ряд, экстремальные значения и размах, оценки математического ожидания и среднеквадратического отклонения, эмпирическую функцию распределения и её график, гистограмму и полигон приведенных частот группированной выборки. Для расчета характеристик и построения графиков нужно написать программу на одном из языков программирования. Листинг программы и результаты работы должны быть представлены в отчете по практической работе.\n",
    "\n",
    "[отчет](https://docs.google.com/document/d/1Y8dwnTG5xWrAzQTY-8pb2Mz45KDDbfHDKk1fwUhx-gI/edit)"
   ]
  },
  {
   "cell_type": "code",
   "execution_count": 44,
   "metadata": {},
   "outputs": [
    {
     "name": "stdout",
     "output_type": "stream",
     "text": [
      "Исходные данные:\n",
      " [-0.53, -0.93, 0.48, -1.55, -1.34, -0.04, -0.84, 0.57, 0.76, 0.3, -0.87, -0.41, 0.81, -1.42, -0.61, -0.33, -1.33, 0.62, -0.48, -0.35]\n",
      "Вариационный ряд:\n",
      " [-1.55, -1.42, -1.34, -1.33, -0.93, -0.87, -0.84, -0.61, -0.53, -0.48, -0.41, -0.35, -0.33, -0.04, 0.3, 0.48, 0.57, 0.62, 0.76, 0.81]\n",
      "Первая порядковая статистика: -1.55\n",
      "n-я порядковая статистика: 0.81\n",
      "размах выборки: 2.36\n",
      "Статистический ряд: [1, 1, 1, 1, 1, 1, 1, 1, 1, 1, 1, 1, 1, 1, 1, 1, 1, 1, 1, 1]\n",
      "Оценка математического ожидания: -0.37\n",
      "Дисперсия: 0.55\n",
      "Выборочная дисперсия: 0.58\n",
      "Оценка среднеквадратического отклонения: 0.74\n",
      "Выборочное среднеквадратичное отклонение: 0.76\n"
     ]
    }
   ],
   "source": [
    "import math\n",
    "import matplotlib.pyplot\n",
    "\n",
    "data = [\n",
    "    -0.53, -0.93, 0.48, -1.55, -1.34, -0.04, -0.84, 0.57, 0.76, 0.30,\n",
    "    -0.87, -0.41, 0.81, -1.42, -0.61, -0.33, -1.33, 0.62, -0.48, -0.35\n",
    "]\n",
    "\n",
    "print(\"Исходные данные:\\n\", data)\n",
    "data.sort()\n",
    "print(\"Вариационный ряд:\\n\", data)\n",
    "print(\"Первая порядковая статистика:\", data[0])\n",
    "print(\"n-я порядковая статистика:\", data[-1])\n",
    "print(\"размах выборки:\", '%.2f' % (data[-1] - data[0]))\n",
    "\n",
    "uniq_data = list(set(data))\n",
    "uniq_data.sort()\n",
    "num_uniq_occur = []\n",
    "prob_uniq = []\n",
    "\n",
    "for i in uniq_data:\n",
    "   num_uniq_occur.append(data.count(i))\n",
    "   prob_uniq.append(num_uniq_occur[-1] / len(data))\n",
    "print(\"Статистический ряд:\", num_uniq_occur)\n",
    "\n",
    "M = 0\n",
    "for i in range(len(uniq_data)):\n",
    "   M += uniq_data[i] * prob_uniq[i]\n",
    "print(\"Оценка математического ожидания:\",'%.2f' %  M)\n",
    "\n",
    "D = -1 * M**2\n",
    "for i in range(len(uniq_data)):\n",
    "   D += uniq_data[i]**2 * prob_uniq[i]\n",
    "print(\"Дисперсия:\", '%.2f' % D)\n",
    "print(f\"Выборочная дисперсия:\", '%.2f' % (len(data) * D / (len(data) - 1)))\n",
    "print(\"Оценка среднеквадратического отклонения:\", '%.2f' % math.sqrt(D))\n",
    "print(f\"Выборочное среднеквадратичное отклонение:\", '%.2f' % math.sqrt(len(data) * D / (len(data) - 1)))"
   ]
  },
  {
   "cell_type": "code",
   "execution_count": 45,
   "metadata": {},
   "outputs": [
    {
     "name": "stdout",
     "output_type": "stream",
     "text": [
      "Функция F:\n",
      "0 \t\t для x <= -1.55\n",
      "0.05 \t для -1.55 < x <= -1.42\n",
      "0.10 \t для -1.42 < x <= -1.34\n",
      "0.15 \t для -1.34 < x <= -1.33\n",
      "0.20 \t для -1.33 < x <= -0.93\n",
      "0.25 \t для -0.93 < x <= -0.87\n",
      "0.30 \t для -0.87 < x <= -0.84\n",
      "0.35 \t для -0.84 < x <= -0.61\n",
      "0.40 \t для -0.61 < x <= -0.53\n",
      "0.45 \t для -0.53 < x <= -0.48\n",
      "0.50 \t для -0.48 < x <= -0.41\n",
      "0.55 \t для -0.41 < x <= -0.35\n",
      "0.60 \t для -0.35 < x <= -0.33\n",
      "0.65 \t для -0.33 < x <= -0.04\n",
      "0.70 \t для -0.04 < x <= 0.3\n",
      "0.75 \t для 0.3 < x <= 0.48\n",
      "0.80 \t для 0.48 < x <= 0.57\n",
      "0.85 \t для 0.57 < x <= 0.62\n",
      "0.90 \t для 0.62 < x <= 0.76\n",
      "0.95 \t для 0.76 < x <= 0.81\n",
      "1 \t\t для 0.81 < x\n"
     ]
    }
   ],
   "source": [
    "print(\"Функция F:\")\n",
    "F = [0]\n",
    "print(F[-1], \"\\t\\t для x <=\", uniq_data[0])\n",
    "for i in range(1, len(uniq_data)):\n",
    "   F.append(F[-1]+prob_uniq[i-1])\n",
    "   print('%.2f' % F[-1], \"\\t для\", uniq_data[i-1], \"< x <=\", uniq_data[i])\n",
    "F.append(1)\n",
    "print(F[-1], \"\\t\\t для\", uniq_data[-1], \"< x\")"
   ]
  },
  {
   "cell_type": "code",
   "execution_count": 46,
   "metadata": {},
   "outputs": [
    {
     "name": "stdout",
     "output_type": "stream",
     "text": [
      "Интервальный статистический ряд:\n",
      "[ -1.75 , -1.35 ):\tчастота: 2 частотность: 0.10\n",
      "[ -1.35 , -0.96 ):\tчастота: 2 частотность: 0.10\n",
      "[ -0.96 , -0.57 ):\tчастота: 4 частотность: 0.20\n",
      "[ -0.57 , -0.18 ):\tчастота: 5 частотность: 0.25\n",
      "[ -0.18 , 0.21 ):\tчастота: 1 частотность: 0.05\n",
      "[ 0.21 , 0.60 ):\tчастота: 3 частотность: 0.15\n",
      "[ 0.60 , 0.99 ):\tчастота: 3 частотность: 0.15\n"
     ]
    }
   ],
   "source": [
    "print(\"Интервальный статистический ряд:\")\n",
    "dx = round((uniq_data[-1] - uniq_data[0]) / math.ceil(1+math.log(20, 2)), 2)\n",
    "start = uniq_data[0] - dx/2\n",
    "finish = start + dx\n",
    "arr1 = []\n",
    "arr2 = []\n",
    "_value = 0\n",
    "for i in range(len(uniq_data)):\n",
    "   if uniq_data[i] < finish:\n",
    "       _value += num_uniq_occur[i]\n",
    "   else:\n",
    "       arr1.append((start+finish)/2)\n",
    "       arr2.append(_value / len(data))\n",
    "       print(\"[\", '%.2f' % start, \",\", '%.2f' % finish, \"):\\tчастота:\", _value, \"частотность:\", '%.2f' % arr2[-1])\n",
    "       _value = num_uniq_occur[i]\n",
    "       start = finish\n",
    "       finish = start + dx\n",
    "print(\"[\", '%.2f' % start, \",\", '%.2f' % finish, \"):\\tчастота:\", _value, \"частотность:\", '%.2f' % arr2[-1])\n",
    "\n",
    "\n",
    "x, y = [uniq_data[0]-0.5], [0]\n",
    "_pointer = 0\n",
    "for i in uniq_data:\n",
    "   x.append(uniq_data[_pointer])\n",
    "   x.append(uniq_data[_pointer])\n",
    "   y.append(F[_pointer])\n",
    "   y.append(F[_pointer+1])\n",
    "   _pointer+=1\n",
    "x.append(uniq_data[-1]+0.5)\n",
    "y.append(1)"
   ]
  },
  {
   "cell_type": "code",
   "execution_count": 47,
   "metadata": {},
   "outputs": [
    {
     "name": "stdout",
     "output_type": "stream",
     "text": [
      "График эмперической функции:\n"
     ]
    },
    {
     "data": {
      "image/png": "[encoded data removed]",
      "text/plain": [
       "<Figure size 640x480 with 1 Axes>"
      ]
     },
     "metadata": {},
     "output_type": "display_data"
    }
   ],
   "source": [
    "print('График эмперической функции:')\n",
    "fig = matplotlib.pyplot.figure()\n",
    "ax = fig.add_subplot(1, 1, 1)\n",
    "ax.spines['left'].set_position('center')\n",
    "ax.spines['bottom'].set_position('zero')\n",
    "ax.spines['right'].set_color('none')\n",
    "ax.spines['top'].set_color('none')\n",
    "ax.xaxis.set_ticks_position('bottom')\n",
    "ax.yaxis.set_ticks_position('left')\n",
    "matplotlib.pyplot.plot(x, y, 'b')\n",
    "matplotlib.pyplot.show()"
   ]
  },
  {
   "cell_type": "code",
   "execution_count": 48,
   "metadata": {},
   "outputs": [
    {
     "name": "stdout",
     "output_type": "stream",
     "text": [
      "Гистограмма:\n"
     ]
    },
    {
     "data": {
      "image/png": "[encoded data removed]",
      "text/plain": [
       "<Figure size 640x480 with 1 Axes>"
      ]
     },
     "metadata": {},
     "output_type": "display_data"
    }
   ],
   "source": [
    "print('Гистограмма:')\n",
    "matplotlib.pyplot.bar(arr1, arr2)\n",
    "matplotlib.pyplot.show()"
   ]
  }
 ],
 "metadata": {
  "kernelspec": {
   "display_name": "base",
   "language": "python",
   "name": "python3"
  },
  "language_info": {
   "codemirror_mode": {
    "name": "ipython",
    "version": 3
   },
   "file_extension": ".py",
   "mimetype": "text/x-python",
   "name": "python",
   "nbconvert_exporter": "python",
   "pygments_lexer": "ipython3",
   "version": "3.11.5"
  }
 },
 "nbformat": 4,
 "nbformat_minor": 2
}
