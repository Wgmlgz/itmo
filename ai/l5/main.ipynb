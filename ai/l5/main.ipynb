{
 "cells": [
  {
   "cell_type": "markdown",
   "metadata": {},
   "source": [
    "# Лабораторная 5. Деревья решений"
   ]
  },
  {
   "cell_type": "markdown",
   "metadata": {},
   "source": [
    "для данного датасета нужно ввести метрику: студент успешный/неуспешный на основании грейда"
   ]
  },
  {
   "cell_type": "code",
   "execution_count": 21,
   "metadata": {},
   "outputs": [
    {
     "name": "stdout",
     "output_type": "stream",
     "text": [
      "  STUDENT ID  1  2  3  4  5  6  7  8  9  ...  24  25  26  27  28  29  30  \\\n",
      "0   STUDENT1  2  2  3  3  1  2  2  1  1  ...   1   3   2   1   2   1   1   \n",
      "1   STUDENT2  2  2  3  3  1  2  2  1  1  ...   1   3   2   3   2   2   3   \n",
      "2   STUDENT3  2  2  2  3  2  2  2  2  4  ...   1   2   2   1   1   2   2   \n",
      "3   STUDENT4  1  1  1  3  1  2  1  2  1  ...   2   3   2   2   1   3   2   \n",
      "4   STUDENT5  2  2  1  3  2  2  1  3  1  ...   1   2   2   2   1   2   2   \n",
      "\n",
      "   COURSE ID  GRADE  SUCCESS  \n",
      "0          1      1    False  \n",
      "1          1      1    False  \n",
      "2          1      1    False  \n",
      "3          1      1    False  \n",
      "4          1      1    False  \n",
      "\n",
      "[5 rows x 34 columns]\n",
      "                1           2           3           4           5           6  \\\n",
      "count  145.000000  145.000000  145.000000  145.000000  145.000000  145.000000   \n",
      "mean     1.620690    1.600000    1.944828    3.572414    1.662069    1.600000   \n",
      "std      0.613154    0.491596    0.537216    0.805750    0.474644    0.491596   \n",
      "min      1.000000    1.000000    1.000000    1.000000    1.000000    1.000000   \n",
      "25%      1.000000    1.000000    2.000000    3.000000    1.000000    1.000000   \n",
      "50%      2.000000    2.000000    2.000000    3.000000    2.000000    2.000000   \n",
      "75%      2.000000    2.000000    2.000000    4.000000    2.000000    2.000000   \n",
      "max      3.000000    2.000000    3.000000    5.000000    2.000000    2.000000   \n",
      "\n",
      "                7           8           9          10  ...          23  \\\n",
      "count  145.000000  145.000000  145.000000  145.000000  ...  145.000000   \n",
      "mean     1.579310    1.627586    1.620690    1.731034  ...    1.337931   \n",
      "std      0.495381    1.020245    1.061112    0.783999  ...    0.614870   \n",
      "min      1.000000    1.000000    1.000000    1.000000  ...    1.000000   \n",
      "25%      1.000000    1.000000    1.000000    1.000000  ...    1.000000   \n",
      "50%      2.000000    1.000000    1.000000    2.000000  ...    1.000000   \n",
      "75%      2.000000    2.000000    2.000000    2.000000  ...    2.000000   \n",
      "max      2.000000    5.000000    4.000000    4.000000  ...    3.000000   \n",
      "\n",
      "               24          25          26          27          28          29  \\\n",
      "count  145.000000  145.000000  145.000000  145.000000  145.000000  145.000000   \n",
      "mean     1.165517    2.544828    2.055172    2.393103    1.806897    3.124138   \n",
      "std      0.408483    0.564940    0.674736    0.604343    0.810492    1.301083   \n",
      "min      1.000000    1.000000    1.000000    1.000000    1.000000    1.000000   \n",
      "25%      1.000000    2.000000    2.000000    2.000000    1.000000    2.000000   \n",
      "50%      1.000000    3.000000    2.000000    2.000000    2.000000    3.000000   \n",
      "75%      1.000000    3.000000    3.000000    3.000000    2.000000    4.000000   \n",
      "max      3.000000    3.000000    3.000000    3.000000    3.000000    5.000000   \n",
      "\n",
      "               30   COURSE ID       GRADE  \n",
      "count  145.000000  145.000000  145.000000  \n",
      "mean     2.724138    4.131034    3.227586  \n",
      "std      0.916536    3.260145    2.197678  \n",
      "min      1.000000    1.000000    0.000000  \n",
      "25%      2.000000    1.000000    1.000000  \n",
      "50%      3.000000    3.000000    3.000000  \n",
      "75%      3.000000    7.000000    5.000000  \n",
      "max      4.000000    9.000000    7.000000  \n",
      "\n",
      "[8 rows x 32 columns]\n"
     ]
    }
   ],
   "source": [
    "import pandas as pd\n",
    "\n",
    "threshold = 3\n",
    "\n",
    "data = pd.read_csv(\"./DATA.csv\")\n",
    "data['SUCCESS'] = data['GRADE'] >= threshold\n",
    "print(data.head())\n",
    "print(data.describe())\n"
   ]
  },
  {
   "cell_type": "markdown",
   "metadata": {},
   "source": [
    "Отобрать случайным образом sqrt(n) признаков"
   ]
  },
  {
   "cell_type": "code",
   "execution_count": 22,
   "metadata": {},
   "outputs": [
    {
     "data": {
      "text/plain": [
       "array(['7', '1', '8', '17', '30'], dtype=object)"
      ]
     },
     "execution_count": 22,
     "metadata": {},
     "output_type": "execute_result"
    }
   ],
   "source": [
    "import numpy as np\n",
    "\n",
    "# Select sqrt(n) features randomly\n",
    "n_features = int(np.sqrt(len(data.columns) - 1))  # Exclude the target column\n",
    "features = np.random.choice(data.columns[:-1], n_features, replace=False)\n",
    "\n",
    "features"
   ]
  },
  {
   "cell_type": "markdown",
   "metadata": {},
   "source": [
    "Реализовать без использования сторонних библиотек построение дерева решений  (дерево не бинарное, numpy и pandas использовать можно, использовать список списков  для реализации  дерева - нельзя) для решения задачи бинарной классификации "
   ]
  },
  {
   "cell_type": "code",
   "execution_count": 23,
   "metadata": {},
   "outputs": [],
   "source": [
    "class DecisionTreeNode:\n",
    "    def __init__(self, feature=None, threshold=None, a=None, b=None, c=None, *, leaf_value=None):\n",
    "        self.feature = feature\n",
    "        self.threshold = threshold\n",
    "        self.a = a\n",
    "        self.b = b\n",
    "        self.c = c\n",
    "        self.leaf_value = leaf_value  # None if not a leaf, set to the class if a leaf\n",
    "\n",
    "def entropy(target_col):\n",
    "    elements, counts = np.unique(target_col, return_counts=True)\n",
    "    entropy = -np.sum([(counts[i] / np.sum(counts)) * np.log2(counts[i] / np.sum(counts)) for i in range(len(elements))])\n",
    "    return entropy\n",
    "\n",
    "def info_gain(data, split_feature, target_name=\"SUCCESS\"):\n",
    "    total_entropy = entropy(data[target_name])\n",
    "    vals, counts = np.unique(data[split_feature], return_counts=True)\n",
    "    Weighted_Entropy = np.sum([(counts[i] / np.sum(counts)) * entropy(data.where(data[split_feature] == vals[i]).dropna()[target_name]) for i in range(len(vals))])\n",
    "    Information_Gain = total_entropy - Weighted_Entropy\n",
    "    return Information_Gain\n",
    "\n",
    "\n",
    "def decision_tree(data, features, target_name=\"SUCCESS\", depth=0, max_depth=5):\n",
    "    if len(np.unique(data[target_name])) <= 1:\n",
    "        return DecisionTreeNode(leaf_value=np.unique(data[target_name])[0])\n",
    "    elif len(data) == 0 or depth == max_depth:\n",
    "        common_target = data[target_name].mode()[0] if not data.empty else 1  # Default to class 1 if data is empty\n",
    "        return DecisionTreeNode(leaf_value=common_target)\n",
    "    else:\n",
    "        # Select the best feature to split on\n",
    "        info_gains = [info_gain(data, feature) for feature in features]\n",
    "        best_feature_index = np.argmax(info_gains)\n",
    "        best_feature = features[best_feature_index]\n",
    "        tree = DecisionTreeNode(feature=best_feature)\n",
    "        \n",
    "        # Split the data and recurse for each subset\n",
    "        for value in np.unique(data[best_feature]):\n",
    "            subset = data[data[best_feature] == value]\n",
    "            new_features = [f for f in features if f != best_feature]\n",
    "            child_node = decision_tree(subset, new_features, target_name, depth + 1, max_depth)\n",
    "            if value == 2:\n",
    "                tree.a = child_node\n",
    "            elif value == 1:\n",
    "                tree.b = child_node\n",
    "            else:\n",
    "                tree.c = child_node\n",
    "\n",
    "        # Ensure all branches are covered\n",
    "        tree.a = tree.a or DecisionTreeNode(leaf_value=2) \n",
    "        tree.b = tree.b or DecisionTreeNode(leaf_value=1)\n",
    "        tree.c = tree.c or DecisionTreeNode(leaf_value=0)\n",
    "        return tree\n",
    "\n",
    "# Prediction function\n",
    "def predict(tree, row):\n",
    "    while tree.leaf_value is None:\n",
    "        value = row[tree.feature]\n",
    "        if value == 2 and tree.a is not None:\n",
    "            tree = tree.a\n",
    "        if value == 1 and tree.b is not None:\n",
    "            tree = tree.b\n",
    "        elif tree.c is not None:\n",
    "            tree = tree.c\n",
    "        else:\n",
    "            break  # In case of an error in tree structure\n",
    "    return tree.leaf_value if tree.leaf_value is not None else 1  # Default prediction if tree structure fails\n",
    "\n",
    "def predict_all(tree, data):\n",
    "    results = data.apply(lambda row: predict(tree, row), axis=1)\n",
    "    return results\n",
    "\n",
    "tree = decision_tree(data, features.tolist())\n"
   ]
  },
  {
   "cell_type": "markdown",
   "metadata": {},
   "source": [
    "Провести оценку реализованного алгоритма с использованием Accuracy, precision и recall"
   ]
  },
  {
   "cell_type": "code",
   "execution_count": 24,
   "metadata": {},
   "outputs": [
    {
     "name": "stdout",
     "output_type": "stream",
     "text": [
      "Accuracy: 0.4482758620689655, Precision: 0.5, Recall: 0.5\n"
     ]
    }
   ],
   "source": [
    "def accuracy(actual, predicted):\n",
    "    correct = np.sum(actual == predicted)\n",
    "    total = len(actual)\n",
    "    return correct / total\n",
    "\n",
    "def precision(actual, predicted):\n",
    "    true_positive = np.sum((predicted == 1) & (actual == 1))\n",
    "    predicted_positive = np.sum(predicted == 1)\n",
    "    return true_positive / predicted_positive if predicted_positive != 0 else 0\n",
    "\n",
    "def recall(actual, predicted):\n",
    "    true_positive = np.sum((predicted == 1) & (actual == 1))\n",
    "    actual_positive = np.sum(actual == 1)\n",
    "    return true_positive / actual_positive if actual_positive != 0 else 0\n",
    "\n",
    "# Split data into train and test for evaluation\n",
    "train_data = data.sample(frac=0.8, random_state=25)\n",
    "test_data = data.drop(train_data.index)\n",
    "\n",
    "# Making predictions\n",
    "predicted = predict_all(tree, test_data)\n",
    "\n",
    "# Calculating metrics\n",
    "test_actual = test_data['SUCCESS']\n",
    "acc = accuracy(test_actual, predicted)\n",
    "prec = precision(test_actual, predicted)\n",
    "rec = recall(test_actual, predicted)\n",
    "\n",
    "print(f\"Accuracy: {acc}, Precision: {prec}, Recall: {rec}\")\n"
   ]
  },
  {
   "cell_type": "markdown",
   "metadata": {},
   "source": [
    "Построить кривые AUC-ROC и AUC-PR (в пунктах 4 и 5 использовать библиотеки нельзя)"
   ]
  },
  {
   "cell_type": "code",
   "execution_count": 25,
   "metadata": {},
   "outputs": [
    {
     "data": {
      "image/png": "[encoded data removed]",
      "text/plain": [
       "<Figure size 1200x600 with 2 Axes>"
      ]
     },
     "metadata": {},
     "output_type": "display_data"
    }
   ],
   "source": [
    "import numpy as np\n",
    "import matplotlib.pyplot as plt\n",
    "\n",
    "def calculate_tpr_fpr_precision(actual, predicted):\n",
    "    tp = np.sum((predicted == 1) & (actual == 1))\n",
    "    fp = np.sum((predicted == 1) & (actual == 0))\n",
    "    tn = np.sum((predicted == 0) & (actual == 0))\n",
    "    fn = np.sum((predicted == 0) & (actual == 1))\n",
    "    \n",
    "    tpr = tp / (tp + fn) if (tp + fn) != 0 else 0\n",
    "    fpr = fp / (fp + tn) if (fp + tn) != 0 else 0\n",
    "    precision = tp / (tp + fp) if (tp + fp) != 0 else 0\n",
    "    return tpr, fpr, precision\n",
    "\n",
    "# Assuming 'test_actual' contains the true labels and 'predicted' contains the model predictions\n",
    "tpr, fpr, precision = calculate_tpr_fpr_precision(test_actual, predicted)\n",
    "\n",
    "# Data for plotting\n",
    "roc_points = [(0, 0), (fpr, tpr), (1, 1)]\n",
    "pr_points = [(0, precision), (tpr, precision), (1, 0)]\n",
    "\n",
    "roc_x, roc_y = zip(*roc_points)\n",
    "pr_x, pr_y = zip(*pr_points)\n",
    "\n",
    "# Create ROC curve\n",
    "plt.figure(figsize=(12, 6))\n",
    "plt.subplot(1, 2, 1)\n",
    "plt.plot(roc_x, roc_y, marker='o', linestyle='-', color='b')\n",
    "plt.title('ROC Curve')\n",
    "plt.xlabel('False Positive Rate')\n",
    "plt.ylabel('True Positive Rate')\n",
    "plt.xlim([0, 1])\n",
    "plt.ylim([0, 1])\n",
    "\n",
    "# Create PR curve\n",
    "plt.subplot(1, 2, 2)\n",
    "plt.plot(pr_x, pr_y, marker='o', linestyle='-', color='r')\n",
    "plt.title('Precision-Recall Curve')\n",
    "plt.xlabel('Recall')\n",
    "plt.ylabel('Precision')\n",
    "plt.xlim([0, 1])\n",
    "plt.ylim([0, 1])\n",
    "\n",
    "plt.tight_layout()\n",
    "plt.show()\n",
    "\n"
   ]
  },
  {
   "cell_type": "code",
   "execution_count": null,
   "metadata": {},
   "outputs": [],
   "source": []
  }
 ],
 "metadata": {
  "kernelspec": {
   "display_name": ".venv",
   "language": "python",
   "name": "python3"
  },
  "language_info": {
   "codemirror_mode": {
    "name": "ipython",
    "version": 3
   },
   "file_extension": ".py",
   "mimetype": "text/x-python",
   "name": "python",
   "nbconvert_exporter": "python",
   "pygments_lexer": "ipython3",
   "version": "3.13.0"
  }
 },
 "nbformat": 4,
 "nbformat_minor": 2
}
