{
 "cells": [
  {
   "cell_type": "code",
   "execution_count": 84,
   "metadata": {},
   "outputs": [],
   "source": [
    "a = [[0, 3, 0, 0, 4, 4, 4, 4, 0, 3, 4, 0],\n",
    "       [3, 0, 1, 0, 0, 0, 0, 4, 0, 2, 0, 0],\n",
    "       [0, 1, 0, 5, 0, 0, 0, 0, 3, 1, 0, 0],\n",
    "       [0, 0, 5, 0, 1, 4, 1, 0, 4, 5, 4, 0],\n",
    "       [4, 0, 0, 1, 0, 1, 0, 0, 0, 3, 0, 0],\n",
    "       [4, 0, 0, 4, 1, 0, 2, 0, 0, 0, 4, 0],\n",
    "       [4, 0, 0, 1, 0, 2, 0, 0, 0, 4, 0, 1],\n",
    "       [4, 4, 0, 0, 0, 0, 0, 0, 3, 3, 0, 5],\n",
    "       [0, 0, 3, 4, 0, 0, 0, 3, 0, 0, 5, 0],\n",
    "       [3, 2, 1, 5, 3, 0, 4, 3, 0, 0, 2, 0],\n",
    "       [4, 0, 0, 4, 0, 4, 0, 0, 8, 2, 0, 4],\n",
    "       [0, 0, 0, 0, 0, 0, 1, 5, 0, 0, 4, 0]]"
   ]
  },
  {
   "cell_type": "code",
   "execution_count": 85,
   "metadata": {},
   "outputs": [
    {
     "name": "stdout",
     "output_type": "stream",
     "text": [
      "0 0 3 4 5 0 0 0 0 0 0 3 \n",
      "\n",
      "0 0 0 4 4 1 4 0 0 2 0 0 \n",
      "\n",
      "3 0 0 0 0 0 4 5 3 0 4 0 \n",
      "\n",
      "4 4 0 0 4 1 0 0 5 1 0 5 \n",
      "\n",
      "8 4 0 4 0 0 4 4 2 0 0 0 \n",
      "\n",
      "0 1 0 1 0 0 4 0 3 0 0 0 \n",
      "\n",
      "0 4 4 0 4 4 0 0 3 4 3 0 \n",
      "\n",
      "0 0 5 0 4 0 0 0 0 1 0 0 \n",
      "\n",
      "0 0 3 5 2 3 3 0 0 4 2 1 \n",
      "\n",
      "0 2 0 1 0 0 4 1 4 0 0 0 \n",
      "\n",
      "0 0 4 0 0 0 3 0 2 0 0 1 \n",
      "\n",
      "3 0 0 5 0 0 0 0 1 0 1 0 \n",
      "\n",
      "[[0, 0, 3, 4, 5, 0, 0, 0, 0, 0, 0, 3], [0, 0, 0, 4, 4, 1, 4, 0, 0, 2, 0, 0], [3, 0, 0, 0, 0, 0, 4, 5, 3, 0, 4, 0], [4, 4, 0, 0, 4, 1, 0, 0, 5, 1, 0, 5], [8, 4, 0, 4, 0, 0, 4, 4, 2, 0, 0, 0], [0, 1, 0, 1, 0, 0, 4, 0, 3, 0, 0, 0], [0, 4, 4, 0, 4, 4, 0, 0, 3, 4, 3, 0], [0, 0, 5, 0, 4, 0, 0, 0, 0, 1, 0, 0], [0, 0, 3, 5, 2, 3, 3, 0, 0, 4, 2, 1], [0, 2, 0, 1, 0, 0, 4, 1, 4, 0, 0, 0], [0, 0, 4, 0, 0, 0, 3, 0, 2, 0, 0, 1], [3, 0, 0, 5, 0, 0, 0, 0, 1, 0, 1, 0]]\n"
     ]
    }
   ],
   "source": [
    "\n",
    "\n",
    "\n",
    "# a = [[0,5,0,0,1,0,0,1,1,0,2,3],\n",
    "#      [5,0,0,0,5,2,4,0,4,0,5,1],\n",
    "#      [0,0,0,0,0,2,3,3,3,0,4,0],\n",
    "#      [0,0,0,0,4,2,0,0,0,1,3,3],\n",
    "#      [1,5,0,4,0,0,0,1,0,5,3,0],\n",
    "#      [0,2,2,2,0,0,0,3,1,0,0,1],\n",
    "#      [0,4,3,0,0,0,0,2,5,2,3,0],\n",
    "#      [1,0,3,0,1,3,2,0,5,0,1,1],\n",
    "#      [1,4,3,0,0,1,5,5,0,0,3,0],\n",
    "#      [0,0,0,1,5,0,2,0,0,0,0,1],\n",
    "#      [2,5,4,3,3,0,3,1,3,0,0,0],\n",
    "#      [3,1,0,3,0,1,0,1,0,1,0,0]]\n",
    "x = 0\n",
    "b= []\n",
    "map = {\n",
    "    12: 3,\n",
    "    4: 4,\n",
    "    6: 5,\n",
    "    2: 6,\n",
    "    10: 7,\n",
    "    3: 8,\n",
    "    1: 9,\n",
    "    9: 10,\n",
    "    5: 11,\n",
    "    8: 12,\n",
    "    7: 1,\n",
    "    11: 2,\n",
    "}\n",
    "for y in range(12):\n",
    "    t = []\n",
    "    y += 1\n",
    "    i = map[y]\n",
    "    for y in range(12):\n",
    "        y += 1\n",
    "        x = map[y]\n",
    "        print(a[i-1][x-1],end=\" \")\n",
    "        t.append(a[i-1][x-1])\n",
    "    b.append(t)\n",
    "    print(\"\\n\")\n",
    "print(b)"
   ]
  },
  {
   "cell_type": "code",
   "execution_count": 86,
   "metadata": {},
   "outputs": [
    {
     "name": "stdout",
     "output_type": "stream",
     "text": [
      "62\n"
     ]
    }
   ],
   "source": [
    "c = 0\n",
    "for i in a:\n",
    "  for j in i:\n",
    "    if j != 0: c += 1\n",
    "print(c)"
   ]
  },
  {
   "cell_type": "code",
   "execution_count": 87,
   "metadata": {},
   "outputs": [
    {
     "name": "stdout",
     "output_type": "stream",
     "text": [
      "[8, 7, 7, 6, 5, 5, 5, 4, 4, 4, 4, 3]\n",
      "{7: [1, 4], 4: [2, 3, 5, 9], 5: [6, 7, 8], 8: [10], 6: [11], 3: [12]}\n",
      "[8, 7, 7, 6, 5, 5, 5, 4, 4, 4, 4, 3]\n",
      "{4: [1, 6, 11, 12], 5: [2, 3, 10], 7: [4, 7], 6: [5], 3: [8], 8: [9]}\n"
     ]
    }
   ],
   "source": [
    "def get_groups(a):\n",
    "  g = []\n",
    "  groups = {}\n",
    "  for i in a:\n",
    "    c = 0\n",
    "    for j in i:\n",
    "      if j != 0: c += 1\n",
    "    g.append(c)\n",
    "    groups[c] = []\n",
    "  for i in range(12):\n",
    "    c = 0\n",
    "    for j in a[i]:\n",
    "      if j != 0: c += 1\n",
    "    groups[c].append(i + 1)\n",
    "  g = [i for i in reversed(sorted(g))]\n",
    "  print(g)\n",
    "  print(groups)\n",
    "  return groups\n",
    "agroups = get_groups(a)\n",
    "bgroups = get_groups(b)"
   ]
  },
  {
   "attachments": {},
   "cell_type": "markdown",
   "metadata": {},
   "source": []
  },
  {
   "cell_type": "code",
   "execution_count": 88,
   "metadata": {},
   "outputs": [
    {
     "name": "stdout",
     "output_type": "stream",
     "text": [
      "[3, 0, 0, 5, 0, 0, 0, 0, 1, 0, 1, 0]\n"
     ]
    },
    {
     "data": {
      "text/plain": [
       "5558"
      ]
     },
     "execution_count": 88,
     "metadata": {},
     "output_type": "execute_result"
    }
   ],
   "source": [
    "def merge(prefix, first, second, g):\n",
    "    s = ''\n",
    "    s += r'''\\begin{tikzpicture}[ -, node distance = 1cm, \n",
    "                    auto, main/.style = {}]\\begin{scope}[node distance=0mm and 20mm]\n",
    "    '''\n",
    "    s += '\\n'.join(\n",
    "        rf'\\node[main{f\", below= of {first[idx-1]}\" if idx != 0 else \"\"}] ({i})  {{{prefix}{i}}};' for idx, i in enumerate(first))\n",
    "    s += '\\n'\n",
    "    s += '\\n'.join(\n",
    "        rf'\\node[main{f\", below= of {second[idx-1]}\" if idx != 0 else f\", left= of {first[0]}\"}] ({i})  {{{prefix}{i}}};' for idx, i in enumerate(second))\n",
    "    s += r'''\n",
    "    \\path[every node/.style={sloped,anchor=south,auto=false}]'''\n",
    "    \n",
    "    for i, row in enumerate(g):\n",
    "      for j, item in enumerate(row):\n",
    "        if item != 0 and (i + 1) in first and (j + 1) in second:\n",
    "          s += f'\\n({i+1}) edge ({j+1})'\n",
    "          \n",
    "    s += r''';\\end{scope}  \\end{tikzpicture} '''\n",
    "    return s\n",
    "\n",
    "# t = merge('x', agroups[7], agroups[4], a)\n",
    "# print(t)\n",
    "def flatten(l):\n",
    "    return [item for sublist in l for item in sublist]\n",
    "\n",
    "def make_table(i_s, j_s):\n",
    "    s = ''\n",
    "    s += f'''Для определения соответствия вершин с ρ(x) = ρ(y) = {j_s[0]} попробуем связать с установленными вершинами из '''\n",
    "    s += \" и \".join([f\"ρ(x) = ρ(y) = {i}\" for i in i_s])\n",
    "    s += r'''.\n",
    "    \n",
    "    $$\\begin{tabular}{|c|c|c|c|c|c|c|c|} \\hline X & Y \\nl'''\n",
    "    s += merge('x', flatten([agroups[i] for i in i_s]), flatten([agroups[j] for j in j_s]), a)\n",
    "    s += '&'\n",
    "    s += merge('y', flatten([bgroups[i] for i in i_s]), flatten([bgroups[j] for j in j_s]), b)\n",
    "    s += r'''  \\nl \\end{tabular}$$'''\n",
    "    \n",
    "    s += '''Анализ связей показывает следующее соответствие:'''\n",
    "    s += r'''\n",
    "    $$\\begin{tabular}{|c|c|c|c|c|c|c|c|} \\hline X & Y \\nl'''\n",
    "    s += '\\n'.join([(r'''\\rowcolor{Green}''' if i in flatten([agroups[j] for j in j_s]) else \"\") + \n",
    "    rf''' x{i} & y{map[i]}\\nl ''' for i in range(1, 13) if i in flatten([flatten([agroups[i] for i in i_s]) + flatten([agroups[j] for j in j_s])])])\n",
    "    s += r'''  \\end{tabular}$$\n",
    "    \n",
    "    '''\n",
    "    \n",
    "    return s\n",
    "s = ''\n",
    "s += make_table([8, 6, 3], [5])\n",
    "s += make_table([8, 6, 3, 5], [7])\n",
    "s += make_table([8, 6, 3, 5, 7], [4])\n",
    "\n",
    "print(t)\n",
    "open('input.tex', \"w\").write(s)\n",
    "  "
   ]
  }
 ],
 "metadata": {
  "kernelspec": {
   "display_name": "Python 3",
   "language": "python",
   "name": "python3"
  },
  "language_info": {
   "codemirror_mode": {
    "name": "ipython",
    "version": 3
   },
   "file_extension": ".py",
   "mimetype": "text/x-python",
   "name": "python",
   "nbconvert_exporter": "python",
   "pygments_lexer": "ipython3",
   "version": "3.10.10"
  },
  "orig_nbformat": 4
 },
 "nbformat": 4,
 "nbformat_minor": 2
}
