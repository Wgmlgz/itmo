{
 "cells": [
  {
   "cell_type": "code",
   "execution_count": 3,
   "metadata": {},
   "outputs": [
    {
     "name": "stdout",
     "output_type": "stream",
     "text": [
      "g = [[0, 1, 0, 0, 1, 1, 1, 1, 0, 1, 1, 0],\n",
      " [1, 0, 1, 0, 0, 0, 0, 1, 0, 1, 0, 0],\n",
      " [0, 1, 0, 1, 0, 0, 0, 0, 1, 1, 0, 0],\n",
      " [0, 0, 1, 0, 1, 1, 1, 0, 1, 1, 1, 0],\n",
      " [1, 0, 0, 1, 0, 1, 0, 0, 0, 1, 0, 0],\n",
      " [1, 0, 0, 1, 1, 0, 1, 0, 0, 0, 1, 0],\n",
      " [1, 0, 0, 1, 0, 1, 0, 0, 0, 1, 0, 1],\n",
      " [1, 1, 0, 0, 0, 0, 0, 0, 1, 1, 0, 1],\n",
      " [0, 0, 1, 1, 0, 0, 0, 1, 0, 0, 1, 0],\n",
      " [1, 1, 1, 1, 1, 0, 1, 1, 0, 0, 1, 0],\n",
      " [1, 0, 0, 1, 0, 1, 0, 0, 1, 1, 0, 1],\n",
      " [0, 0, 0, 0, 0, 0, 1, 1, 0, 0, 1, 0]]\n"
     ]
    }
   ],
   "source": [
    "from pprint import pprint\n",
    "\n",
    "g = [[0, 3, None, None, 4, 4, 4, 4, None, 3, 4, None],\n",
    "       [3, 0, 1, None, None, None, None, 4, None, 2, None, None],\n",
    "       [None, 1, 0, 5, None, None, None, None, 3, 1, None, None],\n",
    "       [None, None, 5, 0, 1, 4, 1, None, 4, 5, 4, None],\n",
    "       [4, None, None, 1, 0, 1, None, None, None, 3, None, None],\n",
    "       [4, None, None, 4, 1, 0, 2, None, None, None, 4, None],\n",
    "       [4, None, None, 1, None, 2, 0, None, None, 4, None, 1],\n",
    "       [4, 4, None, None, None, None, None, 0, 3, 3, None, 5],\n",
    "       [None, None, 3, 4, None, None, None, 3, 0, None, 5, None],\n",
    "       [3, 2, 1, 5, 3, None, 4, 3, None, 0, 2, None],\n",
    "       [4, None, None, 4, None, 4, None, None, 8, 2, 0, 4],\n",
    "       [None, None, None, None, None, None, 1, 5, None, None, 4, 0]]\n",
    "\n",
    "t = [[(1 if item is not None and item > 0 else 0) for item in row] for row in g]\n",
    "print('g = ', end = '')\n",
    "pprint(t)"
   ]
  },
  {
   "cell_type": "code",
   "execution_count": null,
   "metadata": {},
   "outputs": [],
   "source": [
    "[...document.querySelector('.matrix-input__grid').children].map((x, i) => [...x.children].map((item, j) => item.value = g[i][j]))"
   ]
  }
 ],
 "metadata": {
  "kernelspec": {
   "display_name": "Python 3",
   "language": "python",
   "name": "python3"
  },
  "language_info": {
   "codemirror_mode": {
    "name": "ipython",
    "version": 3
   },
   "file_extension": ".py",
   "mimetype": "text/x-python",
   "name": "python",
   "nbconvert_exporter": "python",
   "pygments_lexer": "ipython3",
   "version": "3.10.10"
  },
  "orig_nbformat": 4
 },
 "nbformat": 4,
 "nbformat_minor": 2
}
