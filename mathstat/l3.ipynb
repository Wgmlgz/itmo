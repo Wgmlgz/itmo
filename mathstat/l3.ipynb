{
 "cells": [
  {
   "cell_type": "code",
   "execution_count": 1,
   "metadata": {},
   "outputs": [
    {
     "name": "stdout",
     "output_type": "stream",
     "text": [
      "nx: 15 ny: 19\n",
      "T найденное: -2.8792491757426357\n",
      "t критическое: 1.694\n",
      "Гипотеза опроверглась\n"
     ]
    }
   ],
   "source": [
    "import math\n",
    "\n",
    "x = [1.17, 3.41, 1.71, 1.42, 0.93,\n",
    "     3.19, 2.95, 3.30, 3.45, 3.88,\n",
    "     0.56, 1.53, 3.65, 3.49, 3.79]\n",
    "y = [-0.70, 2.49, 1.45, 1.20, 0.78,\n",
    "     1.59, 1.09, -0.61, 4.30, -1.37,\n",
    "     0.47, 0.79, -1.31, 3.65, 0.87,\n",
    "     2.92, 0.45, 3.47, -1.13]\n",
    "\n",
    "alfa = 0.05  # Уровень значимости\n",
    "gamma = 1.694  # Критическая точка из таблицы Стьюдента для k = 32\n",
    "nx = len(x)\n",
    "ny = len(y)\n",
    "k = nx + ny - 2  # Число степеней свободы\n",
    "expectedValueX = sum(x) / nx  # Оценка мат ожидания по X\n",
    "expectedValueY = sum(y) / ny  # Оценка мат ожидания по Y\n",
    "\n",
    "correctedVarianceX = 0  # Оценка дисперсии X\n",
    "for i in x:\n",
    "    correctedVarianceX += (i - expectedValueX) ** 2\n",
    "correctedVarianceX = correctedVarianceX / (nx - 1)\n",
    "\n",
    "correctedVarianceY = 0  # Оценка дисперсии Y\n",
    "for i in y:\n",
    "    correctedVarianceY += (i - expectedValueY) ** 2\n",
    "correctedVarianceY = correctedVarianceY / (ny - 1)\n",
    "\n",
    "# Нужно проверить гипотезу равенства МО, t - статистический критерий по формуле\n",
    "t = ((expectedValueY - expectedValueX) / math.sqrt(\n",
    "    (nx - 1) * correctedVarianceX + (ny - 1) * correctedVarianceY\n",
    ")) * math.sqrt(nx * ny * (nx + ny - 2) / (nx + ny))\n",
    "\n",
    "print(\"nx:\", nx, \"ny:\", ny)\n",
    "print(\"T найденное:\", t)\n",
    "print(\"t критическое:\", gamma)\n",
    "\n",
    "if abs(t) < gamma:  # t от -tкр до +tкр\n",
    "    print(\"Гипотеза подтвердилась\")\n",
    "else:\n",
    "    print(\"Гипотеза опроверглась\")\n"
   ]
  }
 ],
 "metadata": {
  "kernelspec": {
   "display_name": "Python 3",
   "language": "python",
   "name": "python3"
  },
  "language_info": {
   "codemirror_mode": {
    "name": "ipython",
    "version": 3
   },
   "file_extension": ".py",
   "mimetype": "text/x-python",
   "name": "python",
   "nbconvert_exporter": "python",
   "pygments_lexer": "ipython3",
   "version": "3.11.5"
  }
 },
 "nbformat": 4,
 "nbformat_minor": 2
}
