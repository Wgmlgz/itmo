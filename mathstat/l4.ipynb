{
 "cells": [
  {
   "cell_type": "code",
   "execution_count": 1,
   "metadata": {},
   "outputs": [
    {
     "name": "stdout",
     "output_type": "stream",
     "text": [
      "r1: 14 r2: 18\n",
      "f найденное: 0.7916547151489266\n",
      "f критическое: 2.42\n",
      "Гипотеза подтвердилась\n"
     ]
    }
   ],
   "source": [
    "import math\n",
    "\n",
    "x = [1.17, 3.41, 1.71, 1.42, 0.93,\n",
    "     3.19, 2.95, 3.30, 3.45, 3.88,\n",
    "     0.56, 1.53, 3.65, 3.49, 3.79]\n",
    "y = [-0.70, 2.49, 1.45, 1.20, 0.78,\n",
    "     1.59, 1.09, -0.61, 4.30, -1.37,\n",
    "     0.47, 0.79, -1.31, 3.65, 0.87,\n",
    "     2.92, 0.45, 3.47, -1.13]\n",
    "\n",
    "alfa = 0.05  # Уровень значимости\n",
    "nx = len(x)\n",
    "ny = len(y)\n",
    "r1 = nx - 1  # число степеней свободы\n",
    "r2 = ny - 1  # число степеней свободы\n",
    "expectedValueX = sum(x) / nx  # Оценка мат ожидания X\n",
    "expectedValueY = sum(y) / ny  # Оценка мат ожидания Y\n",
    "xInSquare = 0  # Сумма квадратов X\n",
    "correctedVarianceX = 0  # Оценка дисперсии X\n",
    "for i in x:\n",
    "    correctedVarianceX += (i - expectedValueX) ** 2\n",
    "    xInSquare += i ** 2\n",
    "correctedVarianceX = correctedVarianceX / (nx - 1)\n",
    "\n",
    "yInSquare = 0  # Сумма квадратов Y\n",
    "correctedVarianceY = 0  # Оценка дисперсии Y\n",
    "for i in y:\n",
    "    correctedVarianceY += (i - expectedValueY) ** 2\n",
    "    yInSquare += i ** 2\n",
    "correctedVarianceY = correctedVarianceY / (ny - 1)\n",
    "\n",
    "# максимальная и минимальная дисперсия\n",
    "maxDisp = max(correctedVarianceX, correctedVarianceY)\n",
    "minDisp = min(correctedVarianceY, correctedVarianceX)\n",
    "\n",
    "f = maxDisp / minDisp\n",
    "gamma = 0  # данные из таблицы фишера находятся на r1 и r2\n",
    "if maxDisp == correctedVarianceX:  # если дисперсия X больше, ищем в таблице k1=14 и k2=18\n",
    "    gamma = 2.3\n",
    "    f1 = math.sqrt(xInSquare) / math.sqrt(yInSquare)\n",
    "else:  # если дисперсия Y больше, ищем в таблице k1=18 и k2=14\n",
    "    gamma = 2.42\n",
    "    f1 = math.sqrt(yInSquare) / math.sqrt(xInSquare)\n",
    "\n",
    "print(\"r1:\", r1, \"r2:\", r2)\n",
    "print(\"f найденное:\", f1)\n",
    "print(\"f критическое:\", gamma)\n",
    "\n",
    "if f1 < gamma:  # Меньше критического - подтверждаем, больше - опровергаем\n",
    "    print(\"Гипотеза подтвердилась\")\n",
    "else:\n",
    "    print(\"Гипотеза опроверглась\")\n"
   ]
  }
 ],
 "metadata": {
  "kernelspec": {
   "display_name": "Python 3",
   "language": "python",
   "name": "python3"
  },
  "language_info": {
   "codemirror_mode": {
    "name": "ipython",
    "version": 3
   },
   "file_extension": ".py",
   "mimetype": "text/x-python",
   "name": "python",
   "nbconvert_exporter": "python",
   "pygments_lexer": "ipython3",
   "version": "3.11.5"
  }
 },
 "nbformat": 4,
 "nbformat_minor": 2
}
