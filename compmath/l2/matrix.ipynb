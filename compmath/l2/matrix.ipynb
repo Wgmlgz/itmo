{
 "cells": [
  {
   "cell_type": "code",
   "execution_count": 3,
   "metadata": {},
   "outputs": [
    {
     "data": {
      "text/plain": [
       "(0.5, 1, 1, 2, 3.0)"
      ]
     },
     "execution_count": 3,
     "metadata": {},
     "output_type": "execute_result"
    }
   ],
   "source": [
    "import numpy as np\n",
    "\n",
    "# Define the functions for the new system of equations\n",
    "def f3(x, y):\n",
    "    return np.log(x) + y - 2\n",
    "\n",
    "def f4(x, y):\n",
    "    return x - 2 * y\n",
    "\n",
    "# Define the partial derivatives for the new system\n",
    "def df3_dx(x):\n",
    "    return 1 / x\n",
    "\n",
    "def df3_dy():\n",
    "    return 1\n",
    "\n",
    "def df4_dx():\n",
    "    return 1\n",
    "\n",
    "def df4_dy():\n",
    "    return -2\n",
    "\n",
    "# Define a grid of x and y values within the new region of interest\n",
    "# We avoid x = 0 because the logarithm is not defined there\n",
    "x_values = np.linspace(2, 3, 100)\n",
    "y_values = np.linspace(1, 2, 100)\n",
    "\n",
    "# Calculate the maximum of the absolute values of the partial derivatives within this region\n",
    "max_df3_dx = np.max(np.abs(df3_dx(x_values)))\n",
    "max_df3_dy = np.abs(df3_dy())\n",
    "max_df4_dx = np.abs(df4_dx())\n",
    "max_df4_dy = np.abs(df4_dy())\n",
    "\n",
    "# Now calculate the maximum norm of the Jacobian matrix\n",
    "max_norm = np.max([max_df3_dx + max_df3_dy, max_df4_dx + max_df4_dy])\n",
    "\n",
    "max_df3_dx, max_df3_dy, max_df4_dx, max_df4_dy, max_norm\n"
   ]
  }
 ],
 "metadata": {
  "kernelspec": {
   "display_name": "Python 3",
   "language": "python",
   "name": "python3"
  },
  "language_info": {
   "codemirror_mode": {
    "name": "ipython",
    "version": 3
   },
   "file_extension": ".py",
   "mimetype": "text/x-python",
   "name": "python",
   "nbconvert_exporter": "python",
   "pygments_lexer": "ipython3",
   "version": "3.11.5"
  }
 },
 "nbformat": 4,
 "nbformat_minor": 2
}
