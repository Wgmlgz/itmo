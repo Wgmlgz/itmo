{
 "cells": [
  {
   "cell_type": "code",
   "execution_count": 9,
   "metadata": {},
   "outputs": [
    {
     "name": "stdout",
     "output_type": "stream",
     "text": [
      "№ шага  xk      f(xk)   f'(xk)  xk+1    |xk+1-xk|\n",
      "1       1.500   -1.015  25.365  1.540   0.040   \n",
      "2       1.540   0.026   26.665  1.539   0.001   \n"
     ]
    }
   ],
   "source": [
    "# Повторное определение необходимых функций и переменных после сброса состояния выполнения кода\n",
    "from sympy import symbols, diff\n",
    "\n",
    "# Определение символов и функций заново\n",
    "x_sym = symbols('x')\n",
    "f_sym = 2.3*x_sym**3 + 5.75*x_sym**2 - 7.41*x_sym - 10.6\n",
    "f_prime_sym = diff(f_sym, x_sym)\n",
    "\n",
    "# Преобразование символических функций в числовые\n",
    "f = lambda x: 2.3*x**3 + 5.75*x**2 - 7.41*x - 10.6\n",
    "f_prime = lambda x: 6.9*x**2 + 11.5*x - 7.41\n",
    "\n",
    "# Начальное приближение\n",
    "x0 = 1.5\n",
    "table = []  # Для хранения результатов\n",
    "\n",
    "for i in range(1, 5):  # Примерное количество шагов для демонстрации\n",
    "    f_xk = f(x0)\n",
    "    f_prime_xk = f_prime(x0)\n",
    "    x_next = x0 - f_xk / f_prime_xk\n",
    "    error = abs(x_next - x0)\n",
    "    \n",
    "    # Добавление результата в таблицу\n",
    "    table.append([i, format(x0, \".3f\"), format(f_xk, \".3f\"), format(f_prime_xk, \".3f\"), format(x_next, \".3f\"), format(error, \".3f\")])\n",
    "    \n",
    "    # Проверка условия окончания: достаточно малая ошибка\n",
    "    if error < 0.001:\n",
    "        break\n",
    "    \n",
    "    x0 = x_next  # Обновление текущего приближения для следующего шага\n",
    "\n",
    "table  # Вывод таблицы результатов\n",
    "# Печать заголовков таблицы\n",
    "diff = '\\''\n",
    "print(f\"{'№ шага':<8}{'xk':<8}{'f(xk)':<8}{f'f{diff}(xk)':<8}{'xk+1':<8}{'|xk+1-xk|':<8}\")\n",
    "\n",
    "# Печать строк таблицы\n",
    "for row in table:\n",
    "    print(f\"{row[0]:<8}{row[1]:<8}{row[2]:<8}{row[3]:<8}{row[4]:<8}{row[5]:<8}\")\n",
    "\n"
   ]
  },
  {
   "cell_type": "code",
   "execution_count": 20,
   "metadata": {},
   "outputs": [
    {
     "name": "stdout",
     "output_type": "stream",
     "text": [
      "№ шага  xk      xk+1    f(xk+1) |xk+1-xk|\n",
      "1       -3.000  -3.064  -0.074  0.064   \n",
      "2       -3.064  -3.060  0.008   0.004   \n",
      "3       -3.060  -3.061  -0.001  0.000   \n"
     ]
    }
   ],
   "source": [
    "# Определение функции преобразования для метода простой итерации\n",
    "# Используем lambda-функцию для преобразования: g(x) = x - c*f(x), где c - некоторая константа\n",
    "c = 0.05  # Примерное значение константы для иллюстрации метода\n",
    "\n",
    "g = lambda x: x - c * f(x)\n",
    "\n",
    "# Начальное приближение\n",
    "x0 = -3\n",
    "iteration_table = []  # Для хранения результатов\n",
    "\n",
    "for i in range(1, 20):  # Выполним 5 итераций для демонстрации\n",
    "    x_next = g(x0)\n",
    "    f_x_next = f(x_next)\n",
    "    error = abs(x_next - x0)\n",
    "    \n",
    "    # Добавление результата в таблицу\n",
    "    iteration_table.append([i, format(x0, \".3f\"), format(x_next, \".3f\"), format(f_x_next, \".3f\"), format(error, \".3f\")])\n",
    "    \n",
    "    if error < 0.001:\n",
    "        break\n",
    "    \n",
    "    x0 = x_next  # Обновление текущего приближения для следующего шага\n",
    "\n",
    "# Вывод таблицы результатов\n",
    "print(f\"{'№ шага':<8}{'xk':<8}{'xk+1':<8}{'f(xk+1)':<8}{'|xk+1-xk|':<8}\")\n",
    "for row in iteration_table:\n",
    "    print(f\"{row[0]:<8}{row[1]:<8}{row[2]:<8}{row[3]:<8}{row[4]:<8}\")\n",
    "\n"
   ]
  },
  {
   "cell_type": "code",
   "execution_count": 24,
   "metadata": {},
   "outputs": [
    {
     "name": "stdout",
     "output_type": "stream",
     "text": [
      "№ шага  a       b       x       f(a)    f(b)    f(x)    |a-b|   \n",
      "1       -2.000  0.000   -1.000  8.820   -10.600 0.260   2.000   \n",
      "2       -1.000  0.000   -0.500  0.260   -10.600 -5.745  1.000   \n",
      "3       -1.000  -0.500  -0.750  0.260   -5.745  -2.778  0.500   \n",
      "4       -1.000  -0.750  -0.875  0.260   -2.778  -1.255  0.250   \n",
      "5       -1.000  -0.875  -0.938  0.260   -1.255  -0.495  0.125   \n",
      "6       -1.000  -0.938  -0.969  0.260   -0.495  -0.116  0.062   \n",
      "7       -1.000  -0.969  -0.984  0.260   -0.116  0.072   0.031   \n",
      "8       -0.984  -0.969  -0.977  0.072   -0.116  -0.022  0.016   \n",
      "9       -0.984  -0.977  -0.980  0.072   -0.022  0.025   0.008   \n"
     ]
    }
   ],
   "source": [
    "# Метод половинного деления (бисекции) для уточнения корня уравнения\n",
    "def bisection_method(f, a, b, tol=1e-2, max_iterations=100):\n",
    "    if f(a) * f(b) > 0:\n",
    "        print(\"Метод половинного деления не применим: f(a) и f(b) должны иметь разные знаки\")\n",
    "        return []\n",
    "    \n",
    "    table = []  # Для хранения результатов итераций\n",
    "    for i in range(max_iterations):\n",
    "        x = (a + b) / 2\n",
    "        f_a = f(a)\n",
    "        f_b = f(b)\n",
    "        f_x = f(x)\n",
    "        error = abs(a - b)\n",
    "        \n",
    "        # Добавление результата в таблицу\n",
    "        table.append([i + 1, format(a, \".3f\"), format(b, \".3f\"), format(x, \".3f\"), format(f_a, \".3f\"), format(f_b, \".3f\"), format(f_x, \".3f\"), format(error, \".3f\")])\n",
    "        \n",
    "        if f_a * f_x < 0:\n",
    "            b = x\n",
    "        else:\n",
    "            a = x\n",
    "        \n",
    "        if error < tol:\n",
    "            break\n",
    "    \n",
    "    return table\n",
    "\n",
    "# Вызов метода половинного деления с начальными параметрами\n",
    "a_initial = -2\n",
    "b_initial = 0\n",
    "bisection_table = bisection_method(f, a_initial, b_initial)\n",
    "\n",
    "# Вывод таблицы результатов\n",
    "print(f\"{'№ шага':<8}{'a':<8}{'b':<8}{'x':<8}{'f(a)':<8}{'f(b)':<8}{'f(x)':<8}{'|a-b|':<8}\")\n",
    "for row in bisection_table:\n",
    "    print(f\"{row[0]:<8}{row[1]:<8}{row[2]:<8}{row[3]:<8}{row[4]:<8}{row[5]:<8}{row[6]:<8}{row[7]:<8}\")\n",
    "\n"
   ]
  }
 ],
 "metadata": {
  "kernelspec": {
   "display_name": "Python 3",
   "language": "python",
   "name": "python3"
  },
  "language_info": {
   "codemirror_mode": {
    "name": "ipython",
    "version": 3
   },
   "file_extension": ".py",
   "mimetype": "text/x-python",
   "name": "python",
   "nbconvert_exporter": "python",
   "pygments_lexer": "ipython3",
   "version": "3.11.5"
  }
 },
 "nbformat": 4,
 "nbformat_minor": 2
}
